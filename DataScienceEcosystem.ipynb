{
  "metadata": {
    "kernelspec": {
      "name": "python",
      "display_name": "Python (Pyodide)",
      "language": "python"
    },
    "language_info": {
      "codemirror_mode": {
        "name": "python",
        "version": 3
      },
      "file_extension": ".py",
      "mimetype": "text/x-python",
      "name": "python",
      "nbconvert_exporter": "python",
      "pygments_lexer": "ipython3",
      "version": "3.8"
    }
  },
  "nbformat_minor": 5,
  "nbformat": 4,
  "cells": [
    {
      "id": "46628dba-7b3b-4dbc-8e69-d1467ac1ab6f",
      "cell_type": "markdown",
      "source": "# Data Science Tools and Ecosystem",
      "metadata": {}
    },
    {
      "id": "4213ab34-4965-4dcc-82d0-3a976bbc6407",
      "cell_type": "markdown",
      "source": "In this notebook, Data Science Tools and Ecosystem are summarized.",
      "metadata": {}
    },
    {
      "id": "b66f2546-e6c7-48b2-9525-5bb20a10d6f5",
      "cell_type": "markdown",
      "source": "*Objectives:*\n- R\n- Julia\n- Python",
      "metadata": {}
    },
    {
      "id": "e0b092ba-3b7c-473d-9319-5dec6e1a6ade",
      "cell_type": "markdown",
      "source": "Some of the popular languages that Data Scientists use are:\n1. Python\n2. R\n3. Julia\n4. SQL",
      "metadata": {}
    },
    {
      "id": "575cc015-1833-498f-83ac-af84cebf5027",
      "cell_type": "markdown",
      "source": "Some of the commonly used libraries used by Data Scientists include:\n1. Pandas\n2. Matplotlib\n3. NumPy\n4. SciPy",
      "metadata": {}
    },
    {
      "id": "e653fbf5-6867-4a8c-84ca-fbb90941937b",
      "cell_type": "markdown",
      "source": "|Data Science Tools|\n|------------------|\n|Jupyter Notebook|\n|Google Colab|\n|VS Vode|",
      "metadata": {}
    },
    {
      "id": "61e9a875-be35-49bf-a74e-1314a11202a0",
      "cell_type": "markdown",
      "source": "### Below are a few examples of evaluating arithmetic expressions in Python",
      "metadata": {}
    },
    {
      "id": "2fd9b8f7-a916-4414-87bb-a0bbff55eb9d",
      "cell_type": "code",
      "source": "#This a simple arithmetic expression to mutiply then add integers\n(3*4)+5",
      "metadata": {
        "trusted": true
      },
      "outputs": [
        {
          "execution_count": 1,
          "output_type": "execute_result",
          "data": {
            "text/plain": "17"
          },
          "metadata": {}
        }
      ],
      "execution_count": 1
    },
    {
      "id": "e4d6058f-f1c9-4d2f-8151-51b62ff66e89",
      "cell_type": "code",
      "source": "#This will convert 200 minutes to hours by diving by 60\n200/60",
      "metadata": {
        "trusted": true
      },
      "outputs": [
        {
          "execution_count": 2,
          "output_type": "execute_result",
          "data": {
            "text/plain": "3.3333333333333335"
          },
          "metadata": {}
        }
      ],
      "execution_count": 2
    },
    {
      "id": "3e0ba599-fa51-4f7b-b6f0-1865b202fcee",
      "cell_type": "markdown",
      "source": "## Author\nAlejandro Y.",
      "metadata": {}
    }
  ]
}